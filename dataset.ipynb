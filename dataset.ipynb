{
 "cells": [
  {
   "cell_type": "code",
   "execution_count": 1,
   "metadata": {},
   "outputs": [
    {
     "name": "stderr",
     "output_type": "stream",
     "text": [
      "2024-10-20 15:00:55.062697: E external/local_xla/xla/stream_executor/cuda/cuda_fft.cc:485] Unable to register cuFFT factory: Attempting to register factory for plugin cuFFT when one has already been registered\n",
      "2024-10-20 15:00:55.075423: E external/local_xla/xla/stream_executor/cuda/cuda_dnn.cc:8454] Unable to register cuDNN factory: Attempting to register factory for plugin cuDNN when one has already been registered\n",
      "2024-10-20 15:00:55.079289: E external/local_xla/xla/stream_executor/cuda/cuda_blas.cc:1452] Unable to register cuBLAS factory: Attempting to register factory for plugin cuBLAS when one has already been registered\n",
      "2024-10-20 15:00:55.089420: I tensorflow/core/platform/cpu_feature_guard.cc:210] This TensorFlow binary is optimized to use available CPU instructions in performance-critical operations.\n",
      "To enable the following instructions: AVX2 FMA, in other operations, rebuild TensorFlow with the appropriate compiler flags.\n",
      "2024-10-20 15:00:56.275404: W tensorflow/compiler/tf2tensorrt/utils/py_utils.cc:38] TF-TRT Warning: Could not find TensorRT\n"
     ]
    }
   ],
   "source": [
    "import os\n",
    "import pickle\n",
    "import tarfile\n",
    "import datetime\n",
    "import numpy as np\n",
    "import urllib.request\n",
    "import sklearn.metrics\n",
    "import tensorflow as tf\n",
    "import matplotlib.pyplot as plt\n",
    "import zipfile\n",
    "import keras.utils\n",
    "import tensorflow.keras.utils\n",
    "import shutil"
   ]
  },
  {
   "cell_type": "code",
   "execution_count": 2,
   "metadata": {},
   "outputs": [],
   "source": [
    "from tensorflow.keras.preprocessing.image import ImageDataGenerator\n",
    "from tensorflow.keras.layers import Input, Dense, Conv2D, BatchNormalization, MaxPool2D, Dropout, Flatten, MaxPooling2D, GlobalAveragePooling2D, Activation\n",
    "from tensorflow.keras import Sequential\n",
    "from tensorflow.keras import regularizers\n",
    "from keras.utils import plot_model\n",
    "from keras import layers, Model\n",
    "import keras"
   ]
  },
  {
   "cell_type": "code",
   "execution_count": 3,
   "metadata": {
    "executionInfo": {
     "elapsed": 3739,
     "status": "ok",
     "timestamp": 1729389601233,
     "user": {
      "displayName": "Тимофей Андреев",
      "userId": "16114023974433624749"
     },
     "user_tz": -600
    },
    "id": "jZ_R9jZsBcCK"
   },
   "outputs": [
    {
     "name": "stderr",
     "output_type": "stream",
     "text": [
      "/root/miniconda3/envs/tf/lib/python3.10/site-packages/tqdm/auto.py:21: TqdmWarning: IProgress not found. Please update jupyter and ipywidgets. See https://ipywidgets.readthedocs.io/en/stable/user_install.html\n",
      "  from .autonotebook import tqdm as notebook_tqdm\n"
     ]
    }
   ],
   "source": [
    "import kagglehub\n",
    "from pathlib import Path\n",
    "import os\n",
    "import numpy as np\n",
    "import keras\n",
    "import math\n",
    "import tensorflow as tf\n",
    "from typing import Union, Tuple\n",
    "import csv\n",
    "import pandas as pd\n",
    "import shutil\n",
    "import logging"
   ]
  },
  {
   "cell_type": "code",
   "execution_count": 2,
   "metadata": {
    "colab": {
     "base_uri": "https://localhost:8080/"
    },
    "executionInfo": {
     "elapsed": 2203,
     "status": "ok",
     "timestamp": 1729389608080,
     "user": {
      "displayName": "Тимофей Андреев",
      "userId": "16114023974433624749"
     },
     "user_tz": -600
    },
    "id": "1Jcv8n2dBhyD",
    "outputId": "d99abad5-82f3-4d40-c905-560ff8dc5f52"
   },
   "outputs": [
    {
     "name": "stdout",
     "output_type": "stream",
     "text": [
      "Path to dataset files: /root/.cache/kagglehub/datasets/filiprejmus/randomizedbackground100birdspecies/versions/1/100-bird-species\n"
     ]
    }
   ],
   "source": [
    "# Download latest version\n",
    "PATH_TO_DATA = kagglehub.dataset_download(\"filiprejmus/randomizedbackground100birdspecies\") + '/100-bird-species'\n",
    "\n",
    "print(\"Path to dataset files:\", PATH_TO_DATA)"
   ]
  },
  {
   "cell_type": "code",
   "execution_count": 9,
   "metadata": {},
   "outputs": [
    {
     "data": {
      "text/plain": [
       "'dataset'"
      ]
     },
     "execution_count": 9,
     "metadata": {},
     "output_type": "execute_result"
    }
   ],
   "source": [
    "shutil.copytree(PATH_TO_DATA, 'dataset')"
   ]
  },
  {
   "cell_type": "code",
   "execution_count": 4,
   "metadata": {},
   "outputs": [],
   "source": [
    "PATH_TO_DATA = 'dataset'"
   ]
  },
  {
   "cell_type": "code",
   "execution_count": 5,
   "metadata": {
    "executionInfo": {
     "elapsed": 382,
     "status": "ok",
     "timestamp": 1729389611851,
     "user": {
      "displayName": "Тимофей Андреев",
      "userId": "16114023974433624749"
     },
     "user_tz": -600
    },
    "id": "2NbQuhMg-J4U"
   },
   "outputs": [],
   "source": [
    "PATH_TO_CSV = os.getcwd() +  '/' + f'{PATH_TO_DATA}/kagle-birds.csv'"
   ]
  },
  {
   "cell_type": "code",
   "execution_count": 12,
   "metadata": {
    "executionInfo": {
     "elapsed": 394,
     "status": "ok",
     "timestamp": 1729389615873,
     "user": {
      "displayName": "Тимофей Андреев",
      "userId": "16114023974433624749"
     },
     "user_tz": -600
    },
    "id": "pa0YpWBY9PD1"
   },
   "outputs": [],
   "source": [
    "# Add \"data set\" column to table\n",
    "\n",
    "def add_split_column_to_csv(path_to_csv: str):\n",
    "  birds_data_frame = pd.read_csv(path_to_csv, index_col=0)\n",
    "  file_pathes = birds_data_frame['filepaths'].to_numpy()\n",
    "\n",
    "  splited_file_pathes = np.array([item.split('/') for item in file_pathes])\n",
    "  splits = splited_file_pathes[:,3]\n",
    "  split_types = np.unique(splits)\n",
    "\n",
    "  birds_data_frame['data set'] = splits\n",
    "  birds_data_frame.to_csv(path_to_csv, index=False)"
   ]
  },
  {
   "cell_type": "code",
   "execution_count": 13,
   "metadata": {
    "colab": {
     "base_uri": "https://localhost:8080/"
    },
    "executionInfo": {
     "elapsed": 384,
     "status": "error",
     "timestamp": 1729389617566,
     "user": {
      "displayName": "Тимофей Андреев",
      "userId": "16114023974433624749"
     },
     "user_tz": -600
    },
    "id": "KwtRn30jfz68",
    "outputId": "1503b0aa-b4f6-4336-fa69-3720dd6c25ed"
   },
   "outputs": [],
   "source": [
    "add_split_column_to_csv(PATH_TO_CSV)"
   ]
  },
  {
   "cell_type": "code",
   "execution_count": 20,
   "metadata": {
    "id": "xQxj_mFnlyW9"
   },
   "outputs": [],
   "source": [
    "def fix_rel_path(path_to_csv: str):\n",
    "  birds_data_frame = pd.read_csv(path_to_csv)\n",
    "  file_pathes = birds_data_frame['filepaths'].to_numpy()\n",
    "\n",
    "  relative_file_pathes = np.array(['.' + item[25:] for item in file_pathes])\n",
    "\n",
    "  birds_data_frame.drop('filepaths', axis=1)\n",
    "  birds_data_frame['filepaths'] = relative_file_pathes\n",
    "  birds_data_frame.to_csv(path_to_csv, index=False)"
   ]
  },
  {
   "cell_type": "code",
   "execution_count": 21,
   "metadata": {
    "colab": {
     "base_uri": "https://localhost:8080/"
    },
    "executionInfo": {
     "elapsed": 374,
     "status": "ok",
     "timestamp": 1729389290855,
     "user": {
      "displayName": "Тимофей Андреев",
      "userId": "16114023974433624749"
     },
     "user_tz": -600
    },
    "id": "_11aZeFCmZlc",
    "outputId": "e179fd46-eeaf-4996-e3a1-0a6e4357dd8d"
   },
   "outputs": [
    {
     "name": "stdout",
     "output_type": "stream",
     "text": [
      "['filepaths', 'labels', 'data set']\n"
     ]
    }
   ],
   "source": [
    "fix_rel_path(PATH_TO_CSV)"
   ]
  },
  {
   "cell_type": "code",
   "execution_count": 7,
   "metadata": {
    "id": "mMDSsVCpBtNM"
   },
   "outputs": [],
   "source": [
    "def image_dataset_from_directory_custom(\n",
    "    directory: str,\n",
    "    batch_size: int = 64,\n",
    "    image_size: Tuple[int, int] = (64, 64),\n",
    "    shuffle: bool = True,\n",
    "    seed: int = 42,\n",
    "    validation_split: float = 0.8,\n",
    "    subset: Union['training', 'validation', 'both', None] = None\n",
    "):\n",
    "  rng = np.random.default_rng(seed)\n",
    "\n",
    "  print('Start convert to dataset')\n",
    "\n",
    "  sub_dir = os.listdir(directory)\n",
    "\n",
    "  images = []\n",
    "  labels = []\n",
    "\n",
    "  for i in range(0, len(sub_dir)):\n",
    "    items = os.listdir(f'{directory}/{sub_dir[i]}')\n",
    "\n",
    "    for j in range(0, len(items)):\n",
    "      image = keras.utils.load_img(f'{directory}/{sub_dir[i]}/{items[j]}', target_size=image_size)\n",
    "      image_arr = keras.utils.img_to_array(image)\n",
    "\n",
    "      images.append(image_arr)\n",
    "      labels.append(i)\n",
    "\n",
    "  print(f'{len(sub_dir)} Classes')\n",
    "  print(f'{len(labels)}  Items')\n",
    "\n",
    "  dataset = tf.data.Dataset.from_tensor_slices((images, labels))\n",
    "\n",
    "  if not shuffle and subset is None:\n",
    "    return dataset.batch(batch_size)\n",
    "\n",
    "  dataset.shuffle(1000, seed=seed, reshuffle_each_iteration=True)\n",
    "\n",
    "  if subset is None:\n",
    "    return dataset.batch(batch_size)\n",
    "\n",
    "  train_dataset, validation_dataset = keras.utils.split_dataset(dataset, left_size=validation_split)\n",
    "\n",
    "  match subset:\n",
    "    case 'both':\n",
    "      return train_dataset.batch(batch_size), validation_dataset\n",
    "    case 'training':\n",
    "      return train_dataset.batch(batch_size)\n",
    "    case 'validation':\n",
    "      return validation_dataset\n",
    "\n",
    "  return dataset"
   ]
  },
  {
   "cell_type": "code",
   "execution_count": null,
   "metadata": {
    "id": "NVjGqrrNHUSN"
   },
   "outputs": [],
   "source": [
    "PATH_TO_TEST = f'{PATH_TO_DATA}/test'"
   ]
  },
  {
   "cell_type": "code",
   "execution_count": null,
   "metadata": {
    "colab": {
     "base_uri": "https://localhost:8080/"
    },
    "collapsed": true,
    "executionInfo": {
     "elapsed": 158650,
     "status": "ok",
     "timestamp": 1729326137158,
     "user": {
      "displayName": "Тимофей Андреев",
      "userId": "16114023974433624749"
     },
     "user_tz": -600
    },
    "id": "37JFT3BAEBnF",
    "jupyter": {
     "outputs_hidden": true
    },
    "outputId": "96914f0d-633a-494f-df7b-7f122fd5a762"
   },
   "outputs": [
    {
     "name": "stdout",
     "output_type": "stream",
     "text": [
      "Start convert to dataset\n",
      "265 Classes\n",
      "1325  Items\n"
     ]
    }
   ],
   "source": [
    "train_dataset, validation_dataset = image_dataset_from_directory_custom(PATH_TO_TEST)"
   ]
  },
  {
   "cell_type": "code",
   "execution_count": null,
   "metadata": {
    "colab": {
     "base_uri": "https://localhost:8080/"
    },
    "executionInfo": {
     "elapsed": 419,
     "status": "ok",
     "timestamp": 1729326172211,
     "user": {
      "displayName": "Тимофей Андреев",
      "userId": "16114023974433624749"
     },
     "user_tz": -600
    },
    "id": "fuckZ644y3GS",
    "outputId": "0b2b6f00-1349-442e-efc3-7d64ff31a7a4"
   },
   "outputs": [
    {
     "data": {
      "text/plain": [
       "17"
      ]
     },
     "execution_count": 15,
     "metadata": {},
     "output_type": "execute_result"
    }
   ],
   "source": [
    "train_dataset.cardinality().numpy()"
   ]
  },
  {
   "cell_type": "code",
   "execution_count": null,
   "metadata": {
    "colab": {
     "base_uri": "https://localhost:8080/"
    },
    "executionInfo": {
     "elapsed": 443,
     "status": "ok",
     "timestamp": 1729326184500,
     "user": {
      "displayName": "Тимофей Андреев",
      "userId": "16114023974433624749"
     },
     "user_tz": -600
    },
    "id": "wGm3PlZQ30SB",
    "outputId": "66052ac3-c364-4348-ddde-613ba7c544f3"
   },
   "outputs": [
    {
     "data": {
      "text/plain": [
       "265"
      ]
     },
     "execution_count": 16,
     "metadata": {},
     "output_type": "execute_result"
    }
   ],
   "source": [
    "validation_dataset.cardinality().numpy()"
   ]
  },
  {
   "cell_type": "code",
   "execution_count": 8,
   "metadata": {
    "id": "y2mEA1eX33Rp"
   },
   "outputs": [],
   "source": [
    "def load_dataset(path: str, batch_size: int, image_size: tuple[int, int], shuffle: bool, split: str) -> tuple[tf.data.Dataset, dict[int, str]]:\n",
    "    temp_dir = f'{split}-temp'\n",
    "    \n",
    "    try:\n",
    "        path_to_dir_dataset = '/'.join(path.split('/')[:-1])\n",
    "        data_frame = pd.read_csv(path)\n",
    "    \n",
    "        temp_dir = f'{split}-temp'\n",
    "    \n",
    "        os.mkdir(temp_dir)\n",
    "    \n",
    "        filtered_data_frame = data_frame[data_frame['data set'] == split]\n",
    "\n",
    "        index = 0\n",
    "    \n",
    "        for item in filtered_data_frame.iterrows():\n",
    "            if index != 0:\n",
    "                row = item[1]\n",
    "                \n",
    "                filepath = row['filepaths']\n",
    "                label = row['labels']\n",
    "                file_name = filepath.split('/')[-1]\n",
    "    \n",
    "                abs_file_path = Path(f'{path_to_dir_dataset}/{filepath}').resolve()\n",
    "    \n",
    "                if not os.path.exists(f'{temp_dir}/{label}'):\n",
    "                    os.mkdir(f'{temp_dir}/{label}')\n",
    "                    \n",
    "                shutil.copy2(abs_file_path, f'{temp_dir}/{label}/{file_name}')\n",
    "            \n",
    "            index+=1\n",
    "\n",
    "            if index % 100 == 0 and index != 0:\n",
    "                print(f'process: {index} rows')\n",
    "    \n",
    "        dataset = image_dataset_from_directory_custom(temp_dir, batch_size, image_size, shuffle)\n",
    "        \n",
    "        values = np.unique(data_frame['labels'].to_numpy())\n",
    "        keys = np.arange(values.shape[0])\n",
    "        \n",
    "        class_dictionary = dict(zip(keys, values))\n",
    "    \n",
    "        shutil.rmtree(temp_dir)\n",
    "    \n",
    "        return dataset, class_dictionary\n",
    "    except:\n",
    "        print('Errrr')\n",
    "        logging.exception('')\n",
    "        shutil.rmtree(temp_dir)\n",
    "        return None"
   ]
  },
  {
   "cell_type": "code",
   "execution_count": 15,
   "metadata": {
    "collapsed": true,
    "jupyter": {
     "outputs_hidden": true
    },
    "scrolled": true
   },
   "outputs": [
    {
     "name": "stdout",
     "output_type": "stream",
     "text": [
      "process: 100 rows\n",
      "process: 200 rows\n",
      "process: 300 rows\n",
      "process: 400 rows\n",
      "process: 500 rows\n",
      "process: 600 rows\n",
      "process: 700 rows\n",
      "process: 800 rows\n",
      "process: 900 rows\n",
      "process: 1000 rows\n",
      "process: 1100 rows\n",
      "process: 1200 rows\n",
      "process: 1300 rows\n",
      "Start convert to dataset\n",
      "265 Classes\n",
      "1324  Items\n"
     ]
    }
   ],
   "source": [
    "dataset, label_dict = load_dataset(PATH_TO_CSV, 64, (64, 64), False, 'test')"
   ]
  },
  {
   "cell_type": "code",
   "execution_count": 9,
   "metadata": {},
   "outputs": [
    {
     "name": "stderr",
     "output_type": "stream",
     "text": [
      "WARNING: All log messages before absl::InitializeLog() is called are written to STDERR\n",
      "I0000 00:00:1729400546.530799  259398 cuda_executor.cc:1001] could not open file to read NUMA node: /sys/bus/pci/devices/0000:09:00.0/numa_node\n",
      "Your kernel may have been built without NUMA support.\n",
      "I0000 00:00:1729400546.577742  259398 cuda_executor.cc:1001] could not open file to read NUMA node: /sys/bus/pci/devices/0000:09:00.0/numa_node\n",
      "Your kernel may have been built without NUMA support.\n",
      "I0000 00:00:1729400546.577802  259398 cuda_executor.cc:1001] could not open file to read NUMA node: /sys/bus/pci/devices/0000:09:00.0/numa_node\n",
      "Your kernel may have been built without NUMA support.\n",
      "I0000 00:00:1729400546.579510  259398 cuda_executor.cc:1001] could not open file to read NUMA node: /sys/bus/pci/devices/0000:09:00.0/numa_node\n",
      "Your kernel may have been built without NUMA support.\n",
      "I0000 00:00:1729400546.579561  259398 cuda_executor.cc:1001] could not open file to read NUMA node: /sys/bus/pci/devices/0000:09:00.0/numa_node\n",
      "Your kernel may have been built without NUMA support.\n",
      "I0000 00:00:1729400546.579595  259398 cuda_executor.cc:1001] could not open file to read NUMA node: /sys/bus/pci/devices/0000:09:00.0/numa_node\n",
      "Your kernel may have been built without NUMA support.\n",
      "I0000 00:00:1729400546.788422  259398 cuda_executor.cc:1001] could not open file to read NUMA node: /sys/bus/pci/devices/0000:09:00.0/numa_node\n",
      "Your kernel may have been built without NUMA support.\n",
      "I0000 00:00:1729400546.788494  259398 cuda_executor.cc:1001] could not open file to read NUMA node: /sys/bus/pci/devices/0000:09:00.0/numa_node\n",
      "Your kernel may have been built without NUMA support.\n",
      "2024-10-20 15:02:26.788504: I tensorflow/core/common_runtime/gpu/gpu_device.cc:2112] Could not identify NUMA node of platform GPU id 0, defaulting to 0.  Your kernel may not have been built with NUMA support.\n",
      "I0000 00:00:1729400546.788553  259398 cuda_executor.cc:1001] could not open file to read NUMA node: /sys/bus/pci/devices/0000:09:00.0/numa_node\n",
      "Your kernel may have been built without NUMA support.\n",
      "2024-10-20 15:02:26.788571: I tensorflow/core/common_runtime/gpu/gpu_device.cc:2021] Created device /job:localhost/replica:0/task:0/device:GPU:0 with 1414 MB memory:  -> device: 0, name: NVIDIA GeForce GT 1030, pci bus id: 0000:09:00.0, compute capability: 6.1\n"
     ]
    }
   ],
   "source": [
    "# Model\n",
    "\n",
    "INPUT_SHAPE = (64, 64, 3)\n",
    "\n",
    "input = Input(shape=INPUT_SHAPE)\n",
    "\n",
    "x = keras.layers.RandomFlip(\"horizontal\")(input)\n",
    "\n",
    "x = Conv2D(8, 7, activation='relu', padding=\"same\")(x)\n",
    "x = BatchNormalization()(x)\n",
    "x = Conv2D(8, 5, activation='relu', padding=\"same\")(x)\n",
    "x = MaxPooling2D((2,2))(x)\n",
    "\n",
    "x = Flatten()(x)\n",
    "x = Dense(64, activation='relu')(x)\n",
    "output = Dense(265, activation=\"softmax\")(x)\n",
    "\n",
    "model = Model(input, output)"
   ]
  },
  {
   "cell_type": "code",
   "execution_count": 11,
   "metadata": {},
   "outputs": [
    {
     "data": {
      "text/html": [
       "<pre style=\"white-space:pre;overflow-x:auto;line-height:normal;font-family:Menlo,'DejaVu Sans Mono',consolas,'Courier New',monospace\"><span style=\"font-weight: bold\">Model: \"functional\"</span>\n",
       "</pre>\n"
      ],
      "text/plain": [
       "\u001b[1mModel: \"functional\"\u001b[0m\n"
      ]
     },
     "metadata": {},
     "output_type": "display_data"
    },
    {
     "data": {
      "text/html": [
       "<pre style=\"white-space:pre;overflow-x:auto;line-height:normal;font-family:Menlo,'DejaVu Sans Mono',consolas,'Courier New',monospace\">┏━━━━━━━━━━━━━━━━━━━━━━━━━━━━━━━━━┳━━━━━━━━━━━━━━━━━━━━━━━━┳━━━━━━━━━━━━━━━┓\n",
       "┃<span style=\"font-weight: bold\"> Layer (type)                    </span>┃<span style=\"font-weight: bold\"> Output Shape           </span>┃<span style=\"font-weight: bold\">       Param # </span>┃\n",
       "┡━━━━━━━━━━━━━━━━━━━━━━━━━━━━━━━━━╇━━━━━━━━━━━━━━━━━━━━━━━━╇━━━━━━━━━━━━━━━┩\n",
       "│ input_layer (<span style=\"color: #0087ff; text-decoration-color: #0087ff\">InputLayer</span>)        │ (<span style=\"color: #00d7ff; text-decoration-color: #00d7ff\">None</span>, <span style=\"color: #00af00; text-decoration-color: #00af00\">64</span>, <span style=\"color: #00af00; text-decoration-color: #00af00\">64</span>, <span style=\"color: #00af00; text-decoration-color: #00af00\">3</span>)      │             <span style=\"color: #00af00; text-decoration-color: #00af00\">0</span> │\n",
       "├─────────────────────────────────┼────────────────────────┼───────────────┤\n",
       "│ random_flip (<span style=\"color: #0087ff; text-decoration-color: #0087ff\">RandomFlip</span>)        │ (<span style=\"color: #00d7ff; text-decoration-color: #00d7ff\">None</span>, <span style=\"color: #00af00; text-decoration-color: #00af00\">64</span>, <span style=\"color: #00af00; text-decoration-color: #00af00\">64</span>, <span style=\"color: #00af00; text-decoration-color: #00af00\">3</span>)      │             <span style=\"color: #00af00; text-decoration-color: #00af00\">0</span> │\n",
       "├─────────────────────────────────┼────────────────────────┼───────────────┤\n",
       "│ conv2d (<span style=\"color: #0087ff; text-decoration-color: #0087ff\">Conv2D</span>)                 │ (<span style=\"color: #00d7ff; text-decoration-color: #00d7ff\">None</span>, <span style=\"color: #00af00; text-decoration-color: #00af00\">64</span>, <span style=\"color: #00af00; text-decoration-color: #00af00\">64</span>, <span style=\"color: #00af00; text-decoration-color: #00af00\">8</span>)      │         <span style=\"color: #00af00; text-decoration-color: #00af00\">1,184</span> │\n",
       "├─────────────────────────────────┼────────────────────────┼───────────────┤\n",
       "│ batch_normalization             │ (<span style=\"color: #00d7ff; text-decoration-color: #00d7ff\">None</span>, <span style=\"color: #00af00; text-decoration-color: #00af00\">64</span>, <span style=\"color: #00af00; text-decoration-color: #00af00\">64</span>, <span style=\"color: #00af00; text-decoration-color: #00af00\">8</span>)      │            <span style=\"color: #00af00; text-decoration-color: #00af00\">32</span> │\n",
       "│ (<span style=\"color: #0087ff; text-decoration-color: #0087ff\">BatchNormalization</span>)            │                        │               │\n",
       "├─────────────────────────────────┼────────────────────────┼───────────────┤\n",
       "│ conv2d_1 (<span style=\"color: #0087ff; text-decoration-color: #0087ff\">Conv2D</span>)               │ (<span style=\"color: #00d7ff; text-decoration-color: #00d7ff\">None</span>, <span style=\"color: #00af00; text-decoration-color: #00af00\">64</span>, <span style=\"color: #00af00; text-decoration-color: #00af00\">64</span>, <span style=\"color: #00af00; text-decoration-color: #00af00\">8</span>)      │         <span style=\"color: #00af00; text-decoration-color: #00af00\">1,608</span> │\n",
       "├─────────────────────────────────┼────────────────────────┼───────────────┤\n",
       "│ max_pooling2d (<span style=\"color: #0087ff; text-decoration-color: #0087ff\">MaxPooling2D</span>)    │ (<span style=\"color: #00d7ff; text-decoration-color: #00d7ff\">None</span>, <span style=\"color: #00af00; text-decoration-color: #00af00\">32</span>, <span style=\"color: #00af00; text-decoration-color: #00af00\">32</span>, <span style=\"color: #00af00; text-decoration-color: #00af00\">8</span>)      │             <span style=\"color: #00af00; text-decoration-color: #00af00\">0</span> │\n",
       "├─────────────────────────────────┼────────────────────────┼───────────────┤\n",
       "│ flatten (<span style=\"color: #0087ff; text-decoration-color: #0087ff\">Flatten</span>)               │ (<span style=\"color: #00d7ff; text-decoration-color: #00d7ff\">None</span>, <span style=\"color: #00af00; text-decoration-color: #00af00\">8192</span>)           │             <span style=\"color: #00af00; text-decoration-color: #00af00\">0</span> │\n",
       "├─────────────────────────────────┼────────────────────────┼───────────────┤\n",
       "│ dense (<span style=\"color: #0087ff; text-decoration-color: #0087ff\">Dense</span>)                   │ (<span style=\"color: #00d7ff; text-decoration-color: #00d7ff\">None</span>, <span style=\"color: #00af00; text-decoration-color: #00af00\">64</span>)             │       <span style=\"color: #00af00; text-decoration-color: #00af00\">524,352</span> │\n",
       "├─────────────────────────────────┼────────────────────────┼───────────────┤\n",
       "│ dense_1 (<span style=\"color: #0087ff; text-decoration-color: #0087ff\">Dense</span>)                 │ (<span style=\"color: #00d7ff; text-decoration-color: #00d7ff\">None</span>, <span style=\"color: #00af00; text-decoration-color: #00af00\">265</span>)            │        <span style=\"color: #00af00; text-decoration-color: #00af00\">17,225</span> │\n",
       "└─────────────────────────────────┴────────────────────────┴───────────────┘\n",
       "</pre>\n"
      ],
      "text/plain": [
       "┏━━━━━━━━━━━━━━━━━━━━━━━━━━━━━━━━━┳━━━━━━━━━━━━━━━━━━━━━━━━┳━━━━━━━━━━━━━━━┓\n",
       "┃\u001b[1m \u001b[0m\u001b[1mLayer (type)                   \u001b[0m\u001b[1m \u001b[0m┃\u001b[1m \u001b[0m\u001b[1mOutput Shape          \u001b[0m\u001b[1m \u001b[0m┃\u001b[1m \u001b[0m\u001b[1m      Param #\u001b[0m\u001b[1m \u001b[0m┃\n",
       "┡━━━━━━━━━━━━━━━━━━━━━━━━━━━━━━━━━╇━━━━━━━━━━━━━━━━━━━━━━━━╇━━━━━━━━━━━━━━━┩\n",
       "│ input_layer (\u001b[38;5;33mInputLayer\u001b[0m)        │ (\u001b[38;5;45mNone\u001b[0m, \u001b[38;5;34m64\u001b[0m, \u001b[38;5;34m64\u001b[0m, \u001b[38;5;34m3\u001b[0m)      │             \u001b[38;5;34m0\u001b[0m │\n",
       "├─────────────────────────────────┼────────────────────────┼───────────────┤\n",
       "│ random_flip (\u001b[38;5;33mRandomFlip\u001b[0m)        │ (\u001b[38;5;45mNone\u001b[0m, \u001b[38;5;34m64\u001b[0m, \u001b[38;5;34m64\u001b[0m, \u001b[38;5;34m3\u001b[0m)      │             \u001b[38;5;34m0\u001b[0m │\n",
       "├─────────────────────────────────┼────────────────────────┼───────────────┤\n",
       "│ conv2d (\u001b[38;5;33mConv2D\u001b[0m)                 │ (\u001b[38;5;45mNone\u001b[0m, \u001b[38;5;34m64\u001b[0m, \u001b[38;5;34m64\u001b[0m, \u001b[38;5;34m8\u001b[0m)      │         \u001b[38;5;34m1,184\u001b[0m │\n",
       "├─────────────────────────────────┼────────────────────────┼───────────────┤\n",
       "│ batch_normalization             │ (\u001b[38;5;45mNone\u001b[0m, \u001b[38;5;34m64\u001b[0m, \u001b[38;5;34m64\u001b[0m, \u001b[38;5;34m8\u001b[0m)      │            \u001b[38;5;34m32\u001b[0m │\n",
       "│ (\u001b[38;5;33mBatchNormalization\u001b[0m)            │                        │               │\n",
       "├─────────────────────────────────┼────────────────────────┼───────────────┤\n",
       "│ conv2d_1 (\u001b[38;5;33mConv2D\u001b[0m)               │ (\u001b[38;5;45mNone\u001b[0m, \u001b[38;5;34m64\u001b[0m, \u001b[38;5;34m64\u001b[0m, \u001b[38;5;34m8\u001b[0m)      │         \u001b[38;5;34m1,608\u001b[0m │\n",
       "├─────────────────────────────────┼────────────────────────┼───────────────┤\n",
       "│ max_pooling2d (\u001b[38;5;33mMaxPooling2D\u001b[0m)    │ (\u001b[38;5;45mNone\u001b[0m, \u001b[38;5;34m32\u001b[0m, \u001b[38;5;34m32\u001b[0m, \u001b[38;5;34m8\u001b[0m)      │             \u001b[38;5;34m0\u001b[0m │\n",
       "├─────────────────────────────────┼────────────────────────┼───────────────┤\n",
       "│ flatten (\u001b[38;5;33mFlatten\u001b[0m)               │ (\u001b[38;5;45mNone\u001b[0m, \u001b[38;5;34m8192\u001b[0m)           │             \u001b[38;5;34m0\u001b[0m │\n",
       "├─────────────────────────────────┼────────────────────────┼───────────────┤\n",
       "│ dense (\u001b[38;5;33mDense\u001b[0m)                   │ (\u001b[38;5;45mNone\u001b[0m, \u001b[38;5;34m64\u001b[0m)             │       \u001b[38;5;34m524,352\u001b[0m │\n",
       "├─────────────────────────────────┼────────────────────────┼───────────────┤\n",
       "│ dense_1 (\u001b[38;5;33mDense\u001b[0m)                 │ (\u001b[38;5;45mNone\u001b[0m, \u001b[38;5;34m265\u001b[0m)            │        \u001b[38;5;34m17,225\u001b[0m │\n",
       "└─────────────────────────────────┴────────────────────────┴───────────────┘\n"
      ]
     },
     "metadata": {},
     "output_type": "display_data"
    },
    {
     "data": {
      "text/html": [
       "<pre style=\"white-space:pre;overflow-x:auto;line-height:normal;font-family:Menlo,'DejaVu Sans Mono',consolas,'Courier New',monospace\"><span style=\"font-weight: bold\"> Total params: </span><span style=\"color: #00af00; text-decoration-color: #00af00\">544,401</span> (2.08 MB)\n",
       "</pre>\n"
      ],
      "text/plain": [
       "\u001b[1m Total params: \u001b[0m\u001b[38;5;34m544,401\u001b[0m (2.08 MB)\n"
      ]
     },
     "metadata": {},
     "output_type": "display_data"
    },
    {
     "data": {
      "text/html": [
       "<pre style=\"white-space:pre;overflow-x:auto;line-height:normal;font-family:Menlo,'DejaVu Sans Mono',consolas,'Courier New',monospace\"><span style=\"font-weight: bold\"> Trainable params: </span><span style=\"color: #00af00; text-decoration-color: #00af00\">544,385</span> (2.08 MB)\n",
       "</pre>\n"
      ],
      "text/plain": [
       "\u001b[1m Trainable params: \u001b[0m\u001b[38;5;34m544,385\u001b[0m (2.08 MB)\n"
      ]
     },
     "metadata": {},
     "output_type": "display_data"
    },
    {
     "data": {
      "text/html": [
       "<pre style=\"white-space:pre;overflow-x:auto;line-height:normal;font-family:Menlo,'DejaVu Sans Mono',consolas,'Courier New',monospace\"><span style=\"font-weight: bold\"> Non-trainable params: </span><span style=\"color: #00af00; text-decoration-color: #00af00\">16</span> (64.00 B)\n",
       "</pre>\n"
      ],
      "text/plain": [
       "\u001b[1m Non-trainable params: \u001b[0m\u001b[38;5;34m16\u001b[0m (64.00 B)\n"
      ]
     },
     "metadata": {},
     "output_type": "display_data"
    }
   ],
   "source": [
    "model.summary()"
   ]
  },
  {
   "cell_type": "code",
   "execution_count": 12,
   "metadata": {},
   "outputs": [],
   "source": [
    "model.compile(loss=\"sparse_categorical_crossentropy\", metrics=[\"accuracy\"], optimizer=\"Adam\")"
   ]
  },
  {
   "cell_type": "code",
   "execution_count": 13,
   "metadata": {},
   "outputs": [],
   "source": [
    "keras.utils.set_random_seed(42)"
   ]
  },
  {
   "cell_type": "code",
   "execution_count": 14,
   "metadata": {},
   "outputs": [
    {
     "name": "stdout",
     "output_type": "stream",
     "text": [
      "Start convert to dataset\n",
      "265 Classes\n",
      "1325  Items\n"
     ]
    }
   ],
   "source": [
    "v1_train = image_dataset_from_directory_custom('dataset/valid')"
   ]
  },
  {
   "cell_type": "code",
   "execution_count": 15,
   "metadata": {},
   "outputs": [
    {
     "name": "stdout",
     "output_type": "stream",
     "text": [
      "Start convert to dataset\n",
      "265 Classes\n",
      "1325  Items\n"
     ]
    }
   ],
   "source": [
    "v1_valid = image_dataset_from_directory_custom('dataset/test')"
   ]
  },
  {
   "cell_type": "code",
   "execution_count": 21,
   "metadata": {},
   "outputs": [
    {
     "name": "stdout",
     "output_type": "stream",
     "text": [
      "process: 100 rows\n",
      "process: 200 rows\n",
      "process: 300 rows\n",
      "process: 400 rows\n",
      "process: 500 rows\n",
      "process: 600 rows\n",
      "process: 700 rows\n",
      "process: 800 rows\n",
      "process: 900 rows\n",
      "process: 1000 rows\n",
      "process: 1100 rows\n",
      "process: 1200 rows\n",
      "process: 1300 rows\n",
      "Start convert to dataset\n",
      "265 Classes\n",
      "1324  Items\n"
     ]
    }
   ],
   "source": [
    "v2_train, label_train = load_dataset(PATH_TO_CSV, 64, (64, 64), False, 'valid')"
   ]
  },
  {
   "cell_type": "code",
   "execution_count": 22,
   "metadata": {},
   "outputs": [
    {
     "name": "stdout",
     "output_type": "stream",
     "text": [
      "process: 100 rows\n",
      "process: 200 rows\n",
      "process: 300 rows\n",
      "process: 400 rows\n",
      "process: 500 rows\n",
      "process: 600 rows\n",
      "process: 700 rows\n",
      "process: 800 rows\n",
      "process: 900 rows\n",
      "process: 1000 rows\n",
      "process: 1100 rows\n",
      "process: 1200 rows\n",
      "process: 1300 rows\n",
      "Start convert to dataset\n",
      "265 Classes\n",
      "1324  Items\n"
     ]
    }
   ],
   "source": [
    "v2_valid, label_valid = load_dataset(PATH_TO_CSV, 64, (64, 64), False, 'test')"
   ]
  },
  {
   "cell_type": "code",
   "execution_count": 23,
   "metadata": {},
   "outputs": [
    {
     "name": "stdout",
     "output_type": "stream",
     "text": [
      "\u001b[1m19/21\u001b[0m \u001b[32m━━━━━━━━━━━━━━━━━━\u001b[0m\u001b[37m━━\u001b[0m \u001b[1m0s\u001b[0m 47ms/step - accuracy: 0.0146 - loss: 5.5658"
     ]
    },
    {
     "name": "stderr",
     "output_type": "stream",
     "text": [
      "2024-10-20 15:08:52.162780: E external/local_xla/xla/service/slow_operation_alarm.cc:65] Trying algorithm eng20{k2=0,k3=0} for conv (f32[8,8,5,5]{3,2,1,0}, u8[0]{0}) custom-call(f32[44,8,64,64]{3,2,1,0}, f32[44,8,64,64]{3,2,1,0}), window={size=5x5 pad=2_2x2_2}, dim_labels=bf01_oi01->bf01, custom_call_target=\"__cudnn$convBackwardFilter\", backend_config={\"operation_queue_id\":\"0\",\"wait_on_operation_queues\":[],\"cudnn_conv_backend_config\":{\"conv_result_scale\":1,\"activation_mode\":\"kNone\",\"side_input_scale\":0,\"leakyrelu_alpha\":0},\"force_earliest_schedule\":false} is taking a while...\n",
      "2024-10-20 15:08:52.190837: E external/local_xla/xla/service/slow_operation_alarm.cc:133] The operation took 1.984916s\n",
      "Trying algorithm eng20{k2=0,k3=0} for conv (f32[8,8,5,5]{3,2,1,0}, u8[0]{0}) custom-call(f32[44,8,64,64]{3,2,1,0}, f32[44,8,64,64]{3,2,1,0}), window={size=5x5 pad=2_2x2_2}, dim_labels=bf01_oi01->bf01, custom_call_target=\"__cudnn$convBackwardFilter\", backend_config={\"operation_queue_id\":\"0\",\"wait_on_operation_queues\":[],\"cudnn_conv_backend_config\":{\"conv_result_scale\":1,\"activation_mode\":\"kNone\",\"side_input_scale\":0,\"leakyrelu_alpha\":0},\"force_earliest_schedule\":false} is taking a while...\n"
     ]
    },
    {
     "name": "stdout",
     "output_type": "stream",
     "text": [
      "\u001b[1m21/21\u001b[0m \u001b[32m━━━━━━━━━━━━━━━━━━━━\u001b[0m\u001b[37m\u001b[0m \u001b[1m9s\u001b[0m 434ms/step - accuracy: 0.0131 - loss: 5.5669 - val_accuracy: 0.0038 - val_loss: 5.5721\n"
     ]
    }
   ],
   "source": [
    "history = model.fit(v2_train, validation_data=v2_valid, epochs=1)"
   ]
  },
  {
   "cell_type": "code",
   "execution_count": null,
   "metadata": {},
   "outputs": [],
   "source": []
  }
 ],
 "metadata": {
  "colab": {
   "authorship_tag": "ABX9TyMPavLHPMXJAste2DXuSsO3",
   "provenance": []
  },
  "kernelspec": {
   "display_name": "Python 3 (ipykernel)",
   "language": "python",
   "name": "python3"
  },
  "language_info": {
   "codemirror_mode": {
    "name": "ipython",
    "version": 3
   },
   "file_extension": ".py",
   "mimetype": "text/x-python",
   "name": "python",
   "nbconvert_exporter": "python",
   "pygments_lexer": "ipython3",
   "version": "3.10.14"
  }
 },
 "nbformat": 4,
 "nbformat_minor": 4
}
